{
 "cells": [
  {
   "cell_type": "code",
   "execution_count": 925,
   "metadata": {
    "collapsed": false
   },
   "outputs": [],
   "source": [
    "import numpy as np\n",
    "import datetime\n",
    "import pandas as pd\n",
    "import seaborn as sns\n",
    "import matplotlib.pyplot as plt\n",
    "from sklearn.mixture import GMM\n",
    "import xgboost\n",
    "from sklearn.preprocessing import LabelEncoder\n",
    "from sklearn.metrics import roc_auc_score\n",
    "from scipy.sparse import hstack\n",
    "from scipy.sparse import csc_matrix\n",
    "from collections import Counter\n",
    "from sklearn.cross_validation import KFold\n",
    "from sklearn.cross_validation import train_test_split\n",
    "pd.set_option('display.max_columns', 80) \n",
    "pd.set_option('display.max_rows', 1000) \n",
    "%matplotlib inline\n",
    "import warnings\n",
    "warnings.filterwarnings(\"ignore\")"
   ]
  },
  {
   "cell_type": "markdown",
   "metadata": {},
   "source": [
    "1) Можно узнать долю каждого класса отправив одни единицы через полученный f1score.\n",
    "\n",
    "2) Зная долю каждого класса и используя долю классов в сабмите, получая скор (а также понимаю сколько в сумме объектов) можно восстановить confusion matrix, так как получается 4 уравнения с 4-мя неизвестными: TP, TN, FP, FN.\n",
    "\n",
    "3) Строим дерево (мне в процессе было удобно делать каскад): делаем сплит, смотрим confusion matrix и понимаем сколько объектов в листе. Обучаемся на лидерборде. Для разбиение вершины можно попробовать несколько разных сплитов и просто выбрать лучший. Вызов в том, что нужно сразу понимать какой сплит будет хорошим, так как количество сабмитов в день ограниченно. "
   ]
  },
  {
   "cell_type": "markdown",
   "metadata": {},
   "source": [
    "Далее приведен уже финальный код где обозначаем за единицу, если удовлетворяет 4-м условиям."
   ]
  },
  {
   "cell_type": "code",
   "execution_count": 926,
   "metadata": {
    "collapsed": true
   },
   "outputs": [],
   "source": [
    "data = pd.read_csv(\"../data/avito/log.csv\")"
   ]
  },
  {
   "cell_type": "code",
   "execution_count": 927,
   "metadata": {
    "collapsed": false
   },
   "outputs": [],
   "source": [
    "def get_confusion_matrx(f1_score, one_share):\n",
    "    x, y, z = np.linalg.solve([[1, 0, 1], [1, 1, 0], [2 - 2/f1_score, 1, 1]], [0.10503025, one_share, 0])\n",
    "    print(np.array([x*100, z*100]))\n",
    "    print(np.array([y*100, (1 - x - y - z)*100]))"
   ]
  },
  {
   "cell_type": "code",
   "execution_count": 928,
   "metadata": {
    "collapsed": false
   },
   "outputs": [],
   "source": [
    "def get_time(x):\n",
    "    return datetime.datetime.strptime(x,  \"%Y-%m-%d %H:%M:%S\")\n",
    "\n",
    "time = data.event_date.apply(get_time)\n",
    "cook_num = data.groupby(data.cookie_id).apply(len)\n",
    "tim2 = (time - min(time)).apply(lambda x: x.total_seconds())\n",
    "\n",
    "def get_time2(x):\n",
    "    x = np.array(x)\n",
    "    if len(x) == 1:\n",
    "        return -1\n",
    "    return min(x[1:] - x[:-1])\n",
    "min_time = tim2.groupby(data.cookie_id).apply(get_time2) #минимальное время в секунах между действиями "
   ]
  },
  {
   "cell_type": "code",
   "execution_count": null,
   "metadata": {
    "collapsed": false
   },
   "outputs": [],
   "source": [
    "windows = data.useragent.fillna('na').apply(lambda x: 'Windows' in x)\n",
    "is_windows = windows.groupby(data.cookie_id).max() #есть ли 'Windows' хотя бы в одном из useragent для данного cookie_id"
   ]
  },
  {
   "cell_type": "code",
   "execution_count": 957,
   "metadata": {
    "collapsed": true
   },
   "outputs": [],
   "source": [
    "user_id = data.user_id.notnull().groupby(data.cookie_id).mean()"
   ]
  },
  {
   "cell_type": "code",
   "execution_count": 931,
   "metadata": {
    "collapsed": true
   },
   "outputs": [],
   "source": [
    "avito = data.useragent.fillna('na').apply(lambda x: 'AVITO' in x)\n",
    "is_avito = avito.groupby(data.cookie_id).min() #Во всех useragent для данного cookie_id есть 'AVITO'"
   ]
  },
  {
   "cell_type": "code",
   "execution_count": 933,
   "metadata": {
    "collapsed": true
   },
   "outputs": [],
   "source": [
    "# Человек, если более 1 лога на cookie_id, не винда, useragent со словом авито\n",
    "# и минимальное время между действимя менее 30 секунд\n",
    "index = (cook_num > 1) & (1 - is_windows) & (min_time < 30) & is_avito"
   ]
  },
  {
   "cell_type": "markdown",
   "metadata": {},
   "source": [
    "Процесс улучшения:\n",
    "\n",
    "0.84 - (cook_num > 1)\n",
    "\n",
    "0.88 - (cook_num > 1) & (1 - is_windows)\n",
    "\n",
    "0.94 - (cook_num > 1) & (1 - is_windows) & (min_time < 30)\n",
    "\n",
    "0.95 - (cook_num > 1) & (1 - is_windows) & (min_time < 30) & is_avito"
   ]
  },
  {
   "cell_type": "markdown",
   "metadata": {
    "collapsed": true
   },
   "source": [
    "Обязательно нужно куда-нибудь впихнуть хгбуст.\n",
    "\n",
    "Можно для каждого cookie_id сделать признаковое описание без использование предыдущих фичей и взять уже готовые метки. Пуститься в кросс-валидацию и напредсказывать новых меток. Скор улучшился до 0.96."
   ]
  },
  {
   "cell_type": "code",
   "execution_count": 937,
   "metadata": {
    "collapsed": false
   },
   "outputs": [],
   "source": [
    "X = data.eventtype_id.groupby(data.cookie_id).apply(lambda x: len(x.unique())/len(x))\n",
    "X = pd.DataFrame(X, columns=['eventtype_id_share'])\n",
    "for item in data.eventype_name.unique():\n",
    "    X['eventype_name_' + item] = (data.eventype_name == item).groupby(data.cookie_id).mean()\n",
    "X['cook_num'] = cook_num\n",
    "X['Android'] = (data.ClientSideAppName == 'Android App').groupby(data.cookie_id).mean()\n",
    "X['is_event_pageview_share'] = data.is_event_pageview.groupby(data.cookie_id).mean()\n",
    "for item in data.eventtype_group.unique():\n",
    "     X['eventtype_group_' + item] = (data.eventtype_group == item).groupby(data.cookie_id).mean()\n",
    "X['user_id'] = user_id\n",
    "time2 = time.apply(lambda x: x.minute + x.hour * 60)\n",
    "tmp = time2.groupby(data.cookie_id).apply(lambda x: np.array(x))\n",
    "time_night_share = tmp.apply(lambda x: ((x > 100) & (x < 600)).mean())\n",
    "X['time_night_share'] = time_night_share"
   ]
  },
  {
   "cell_type": "code",
   "execution_count": 1002,
   "metadata": {
    "collapsed": false
   },
   "outputs": [],
   "source": [
    "y = (cook_num > 1) & (1 - is_windows) & (min_time < 30) & is_avito"
   ]
  },
  {
   "cell_type": "code",
   "execution_count": 1005,
   "metadata": {
    "collapsed": true
   },
   "outputs": [],
   "source": [
    "model = xgboost.XGBClassifier(n_estimators=59, \n",
    "                              max_depth=6, \n",
    "                              seed=100)"
   ]
  },
  {
   "cell_type": "code",
   "execution_count": 1026,
   "metadata": {
    "collapsed": false
   },
   "outputs": [],
   "source": [
    "cv = KFold(len(X), n_folds=5, shuffle=True, random_state=241)\n",
    "p = pd.Series(index = X.index)\n",
    "for train, test in cv:\n",
    "    model.fit(X.iloc[train], y.iloc[train])\n",
    "    p.iloc[test] = model.predict_proba(X.iloc[test])[:, 1]"
   ]
  },
  {
   "cell_type": "code",
   "execution_count": 1085,
   "metadata": {
    "collapsed": true
   },
   "outputs": [],
   "source": [
    "sub = (p > 0.5).apply(int).reset_index()\n",
    "sub.columns = ['cookie_id', 'IsHuman']\n",
    "sub.to_csv('B.csv', index=False, sep=',')"
   ]
  },
  {
   "cell_type": "markdown",
   "metadata": {},
   "source": [
    "Итоговый confusion matrix в процентах от выборки:"
   ]
  },
  {
   "cell_type": "code",
   "execution_count": 1087,
   "metadata": {
    "collapsed": false
   },
   "outputs": [
    {
     "name": "stdout",
     "output_type": "stream",
     "text": [
      "[ 10.42109455   0.08193045]\n",
      "[  0.73910579  88.75786921]\n"
     ]
    }
   ],
   "source": [
    "get_confusion_matrx(0.9621, sub.IsHuman.mean())"
   ]
  }
 ],
 "metadata": {
  "kernelspec": {
   "display_name": "Python 3",
   "language": "python",
   "name": "python3"
  },
  "language_info": {
   "codemirror_mode": {
    "name": "ipython",
    "version": 3
   },
   "file_extension": ".py",
   "mimetype": "text/x-python",
   "name": "python",
   "nbconvert_exporter": "python",
   "pygments_lexer": "ipython3",
   "version": "3.5.2"
  }
 },
 "nbformat": 4,
 "nbformat_minor": 0
}
